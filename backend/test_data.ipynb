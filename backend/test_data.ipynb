{
 "cells": [
  {
   "cell_type": "code",
   "execution_count": 2,
   "metadata": {},
   "outputs": [],
   "source": [
    "import pandas as pd"
   ]
  },
  {
   "cell_type": "code",
   "execution_count": 3,
   "metadata": {},
   "outputs": [],
   "source": [
    "df = pd.read_csv('updated_data.csv')"
   ]
  },
  {
   "cell_type": "code",
   "execution_count": 4,
   "metadata": {},
   "outputs": [
    {
     "name": "stdout",
     "output_type": "stream",
     "text": [
      "['NY' 'CA' 'IL' 'TX' 'VA' 'PA' 'FL' 'GA' 'MA' 'AZ' 'MI' 'WA' 'MN' 'CO'\n",
      " 'MD' 'MO' 'NC' 'OR' 'OH' 'NV' 'IN' 'TN' 'RI' 'WI' 'OK' 'KY' 'LA' 'UT'\n",
      " 'CT' 'AL' 'HI' 'NE' 'SC' 'NM' 'ID' 'AR' 'IA' 'KS' 'MS' 'ME' 'NH' 'DE'\n",
      " 'AK' 'NJ' 'SD' 'WV' 'ND' 'VT' 'MT' 'WY']\n",
      "50\n"
     ]
    }
   ],
   "source": [
    "state_list = df.iloc[1:, :]['StateName'].unique()\n",
    "print(state_list)\n",
    "print(len(state_list))"
   ]
  },
  {
   "cell_type": "code",
   "execution_count": 21,
   "metadata": {},
   "outputs": [
    {
     "name": "stdout",
     "output_type": "stream",
     "text": [
      "NY\n",
      "396866.7288284325\n",
      "CA\n",
      "610593.5505985613\n",
      "IL\n",
      "219433.7230249173\n",
      "TX\n",
      "185385.92093235083\n",
      "VA\n",
      "352273.4598360601\n",
      "PA\n",
      "194764.7606436204\n",
      "FL\n",
      "304687.60765283206\n",
      "GA\n",
      "178330.04481203225\n",
      "MA\n",
      "622281.5702589733\n",
      "AZ\n",
      "231307.66400792808\n",
      "MI\n",
      "239293.4550946272\n",
      "WA\n",
      "301171.94740360964\n",
      "MN\n",
      "232050.17844716468\n",
      "CO\n",
      "405973.9132084341\n",
      "MD\n",
      "328627.8270157463\n",
      "MO\n",
      "151609.3822987949\n",
      "NC\n",
      "304959.6902769693\n",
      "OR\n",
      "254248.79214463927\n",
      "OH\n",
      "149157.02067138348\n",
      "NV\n",
      "398181.376344284\n",
      "IN\n",
      "183096.68048887263\n",
      "TN\n",
      "160107.80929095738\n",
      "RI\n",
      "278804.71219541016\n",
      "WI\n",
      "199883.5067014671\n",
      "OK\n",
      "116657.60084857023\n",
      "KY\n",
      "147037.10306645356\n",
      "LA\n",
      "168911.6330938514\n",
      "UT\n",
      "190123.66014781757\n",
      "CT\n",
      "444734.4482893008\n",
      "AL\n",
      "168139.15797309522\n",
      "HI\n",
      "400301.7963070584\n",
      "NE\n",
      "147609.85209113007\n",
      "SC\n",
      "260884.5490117642\n",
      "NM\n",
      "276849.5125821322\n",
      "ID\n",
      "162568.42661529413\n",
      "AR\n",
      "144629.63106109115\n",
      "IA\n",
      "143368.57540858455\n",
      "KS\n",
      "139569.02964081537\n",
      "MS\n",
      "107095.83543721226\n",
      "ME\n",
      "240729.0586384562\n",
      "NH\n",
      "260253.34341506052\n",
      "DE\n",
      "247324.3933963437\n",
      "AK\n",
      "202556.99442677735\n",
      "NJ\n",
      "356174.38931004377\n",
      "SD\n",
      "nan\n",
      "WV\n",
      "137278.79818911257\n",
      "ND\n",
      "nan\n",
      "VT\n",
      "213349.86394486504\n",
      "MT\n",
      "nan\n",
      "WY\n",
      "165160.92860009306\n"
     ]
    }
   ],
   "source": [
    "state_dict = {}\n",
    "for state in state_list:\n",
    "    print(state)\n",
    "    # print(df[df['StateName'] == state].iloc[:, -1:].max().to_string())\n",
    "    state_dict[state] = df[df['StateName'] == state].iloc[:]['2005-01-31'].max()\n",
    "    print(state_dict[state])"
   ]
  },
  {
   "cell_type": "code",
   "execution_count": 18,
   "metadata": {},
   "outputs": [
    {
     "data": {
      "text/plain": [
       "{'NY': 228035.5690640177,\n",
       " 'CA': 600056.012096314,\n",
       " 'IL': 146114.93321270973,\n",
       " 'TX': 204662.1162148627,\n",
       " 'VA': 279638.7827680059,\n",
       " 'PA': 205346.70383631947,\n",
       " 'FL': 361788.45803980937,\n",
       " 'GA': 211110.1527777989,\n",
       " 'MA': 655537.2061496453,\n",
       " 'AZ': 355539.6014624146,\n",
       " 'MI': 209521.19666958577,\n",
       " 'WA': 450848.91893924057,\n",
       " 'MN': 261960.11053961076,\n",
       " 'CO': 582180.5158711262,\n",
       " 'MD': 319280.0394100592,\n",
       " 'MO': 195767.54688894225,\n",
       " 'NC': 273496.59404784493,\n",
       " 'OR': 428954.0843594091,\n",
       " 'OH': 180218.96763680305,\n",
       " 'NV': 416350.8443162653,\n",
       " 'IN': 198561.46457166155,\n",
       " 'TN': 252970.76816686025,\n",
       " 'RI': 454845.56114058994,\n",
       " 'WI': 264874.54091093445,\n",
       " 'OK': 154601.6852898451,\n",
       " 'KY': 175145.4764064962,\n",
       " 'LA': 163432.08523457003,\n",
       " 'UT': 501285.19689317327,\n",
       " 'CT': 403493.56776202115,\n",
       " 'AL': 202838.98491337147,\n",
       " 'HI': 843048.6405472063,\n",
       " 'NE': 221942.43127413397,\n",
       " 'SC': 252396.08636329966,\n",
       " 'NM': 248061.3818078323,\n",
       " 'ID': 442152.1698862922,\n",
       " 'AR': 156729.12914262564,\n",
       " 'IA': 194237.94557123154,\n",
       " 'KS': 170660.71780421434,\n",
       " 'MS': 149921.46405055883,\n",
       " 'ME': 334759.6116184786,\n",
       " 'NH': 380781.4575143386,\n",
       " 'DE': 373109.1251805504,\n",
       " 'AK': 374997.5405596224,\n",
       " 'NJ': 414183.1445456818,\n",
       " 'SD': 275907.78676279035,\n",
       " 'WV': 152671.16810279005,\n",
       " 'ND': 255683.15445994007,\n",
       " 'VT': 362663.02864086826,\n",
       " 'MT': 465073.2630738943,\n",
       " 'WY': 444183.39495107013}"
      ]
     },
     "execution_count": 18,
     "metadata": {},
     "output_type": "execute_result"
    }
   ],
   "source": [
    "state_dict"
   ]
  },
  {
   "cell_type": "code",
   "execution_count": 6,
   "metadata": {},
   "outputs": [
    {
     "name": "stdout",
     "output_type": "stream",
     "text": [
      "1554127.902273251\n",
      "43735.44237207397\n"
     ]
    }
   ],
   "source": [
    "print(df['2024-02-29'].max())\n",
    "print(df['2024-02-29'].min())"
   ]
  },
  {
   "cell_type": "code",
   "execution_count": 7,
   "metadata": {},
   "outputs": [
    {
     "name": "stdout",
     "output_type": "stream",
     "text": [
      "2024-02-29    1.554128e+06\n",
      "dtype: float64\n"
     ]
    }
   ],
   "source": [
    "# getting the highest average home value in a city of a state (e.g. California)\n",
    "print(df[df['StateName'] == 'CA'].iloc[:, -1:].max())"
   ]
  }
 ],
 "metadata": {
  "kernelspec": {
   "display_name": ".venv",
   "language": "python",
   "name": "python3"
  },
  "language_info": {
   "codemirror_mode": {
    "name": "ipython",
    "version": 3
   },
   "file_extension": ".py",
   "mimetype": "text/x-python",
   "name": "python",
   "nbconvert_exporter": "python",
   "pygments_lexer": "ipython3",
   "version": "3.11.2"
  }
 },
 "nbformat": 4,
 "nbformat_minor": 2
}
