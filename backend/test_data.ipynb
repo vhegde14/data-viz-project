{
 "cells": [
  {
   "cell_type": "code",
   "execution_count": 1,
   "metadata": {},
   "outputs": [],
   "source": [
    "import pandas as pd"
   ]
  },
  {
   "cell_type": "code",
   "execution_count": 10,
   "metadata": {},
   "outputs": [
    {
     "name": "stdout",
     "output_type": "stream",
     "text": [
      "0      NaN\n",
      "1       NY\n",
      "2       CA\n",
      "3       IL\n",
      "4       TX\n",
      "      ... \n",
      "890     TX\n",
      "891     AK\n",
      "892     CO\n",
      "893     TX\n",
      "894     TX\n",
      "Name: StateName, Length: 895, dtype: object\n"
     ]
    }
   ],
   "source": [
    "df = pd.read_csv('updated_data.csv')"
   ]
  },
  {
   "cell_type": "code",
   "execution_count": 26,
   "metadata": {},
   "outputs": [
    {
     "name": "stdout",
     "output_type": "stream",
     "text": [
      "['NY' 'CA' 'IL' 'TX' 'VA' 'PA' 'FL' 'GA' 'MA' 'AZ' 'MI' 'WA' 'MN' 'CO'\n",
      " 'MD' 'MO' 'NC' 'OR' 'OH' 'NV' 'IN' 'TN' 'RI' 'WI' 'OK' 'KY' 'LA' 'UT'\n",
      " 'CT' 'AL' 'HI' 'NE' 'SC' 'NM' 'ID' 'AR' 'IA' 'KS' 'MS' 'ME' 'NH' 'DE'\n",
      " 'AK' 'NJ' 'SD' 'WV' 'ND' 'VT' 'MT' 'WY']\n",
      "50\n"
     ]
    }
   ],
   "source": [
    "state_list = df.iloc[1:, :]['StateName'].unique()\n",
    "print(state_list)\n",
    "print(len(state_list))"
   ]
  },
  {
   "cell_type": "code",
   "execution_count": 29,
   "metadata": {},
   "outputs": [
    {
     "name": "stdout",
     "output_type": "stream",
     "text": [
      "NY\n",
      "2024-02-29    634651.292334\n",
      "CA\n",
      "2024-02-29    1.554128e+06\n",
      "IL\n",
      "2024-02-29    305231.331105\n",
      "TX\n",
      "2024-02-29    521046.113051\n",
      "VA\n",
      "2024-02-29    549546.676818\n",
      "PA\n",
      "2024-02-29    347370.638606\n",
      "FL\n",
      "2024-02-29    998246.086559\n",
      "GA\n",
      "2024-02-29    379657.987359\n",
      "MA\n",
      "2024-02-29    1.465743e+06\n",
      "AZ\n",
      "2024-02-29    615554.229965\n",
      "MI\n",
      "2024-02-29    381088.149036\n",
      "WA\n",
      "2024-02-29    719217.4244\n",
      "MN\n",
      "2024-02-29    363017.299326\n",
      "CO\n",
      "2024-02-29    1.266339e+06\n",
      "MD\n",
      "2024-02-29    461288.052313\n",
      "MO\n",
      "2024-02-29    294150.454456\n",
      "NC\n",
      "2024-02-29    588095.754124\n",
      "OR\n",
      "2024-02-29    664034.554488\n",
      "OH\n",
      "2024-02-29    302967.616001\n",
      "NV\n",
      "2024-02-29    653488.446566\n",
      "IN\n",
      "2024-02-29    286389.468027\n",
      "TN\n",
      "2024-02-29    432557.198872\n",
      "RI\n",
      "2024-02-29    454845.561141\n",
      "WI\n",
      "2024-02-29    386270.945164\n",
      "OK\n",
      "2024-02-29    229529.46084\n",
      "KY\n",
      "2024-02-29    284561.76687\n",
      "LA\n",
      "2024-02-29    235149.867475\n",
      "UT\n",
      "2024-02-29    1.058377e+06\n",
      "CT\n",
      "2024-02-29    596584.877393\n",
      "AL\n",
      "2024-02-29    368604.715679\n",
      "HI\n",
      "2024-02-29    1.020079e+06\n",
      "NE\n",
      "2024-02-29    279984.821174\n",
      "SC\n",
      "2024-02-29    509904.008599\n",
      "NM\n",
      "2024-02-29    536986.37529\n",
      "ID\n",
      "2024-02-29    920162.428064\n",
      "AR\n",
      "2024-02-29    328037.06209\n",
      "IA\n",
      "2024-02-29    361556.645438\n",
      "KS\n",
      "2024-02-29    296705.384063\n",
      "MS\n",
      "2024-02-29    316565.914325\n",
      "ME\n",
      "2024-02-29    495455.544875\n",
      "NH\n",
      "2024-02-29    462242.587442\n",
      "DE\n",
      "2024-02-29    406254.583528\n",
      "AK\n",
      "2024-02-29    470061.342604\n",
      "NJ\n",
      "2024-02-29    685885.952118\n",
      "SD\n",
      "2024-02-29    407541.657354\n",
      "WV\n",
      "2024-02-29    219092.283403\n",
      "ND\n",
      "2024-02-29    320990.101788\n",
      "VT\n",
      "2024-02-29    447660.045756\n",
      "MT\n",
      "2024-02-29    695221.172028\n",
      "WY\n",
      "2024-02-29    1.441041e+06\n"
     ]
    }
   ],
   "source": [
    "for state in state_list:\n",
    "    print(state)\n",
    "    print(df[df['StateName'] == state].iloc[:, -1:].max().to_string())"
   ]
  },
  {
   "cell_type": "code",
   "execution_count": 20,
   "metadata": {},
   "outputs": [
    {
     "name": "stdout",
     "output_type": "stream",
     "text": [
      "1554127.902273251\n",
      "43735.44237207397\n"
     ]
    }
   ],
   "source": [
    "print(df['2024-02-29'].max())\n",
    "print(df['2024-02-29'].min())"
   ]
  },
  {
   "cell_type": "code",
   "execution_count": 11,
   "metadata": {},
   "outputs": [
    {
     "name": "stdout",
     "output_type": "stream",
     "text": [
      "2024-02-29    1.554128e+06\n",
      "dtype: float64\n"
     ]
    }
   ],
   "source": [
    "# getting the highest average home value in a city of a state (e.g. California)\n",
    "print(df[df['StateName'] == 'CA'].iloc[:, -1:].max())"
   ]
  }
 ],
 "metadata": {
  "kernelspec": {
   "display_name": ".venv",
   "language": "python",
   "name": "python3"
  },
  "language_info": {
   "codemirror_mode": {
    "name": "ipython",
    "version": 3
   },
   "file_extension": ".py",
   "mimetype": "text/x-python",
   "name": "python",
   "nbconvert_exporter": "python",
   "pygments_lexer": "ipython3",
   "version": "3.11.2"
  }
 },
 "nbformat": 4,
 "nbformat_minor": 2
}
